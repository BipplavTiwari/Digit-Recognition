{
  "nbformat": 4,
  "nbformat_minor": 0,
  "metadata": {
    "colab": {
      "name": "Digit-recognition.ipynb",
      "provenance": []
    },
    "kernelspec": {
      "name": "python3",
      "display_name": "Python 3"
    },
    "language_info": {
      "name": "python"
    }
  },
  "cells": [
    {
      "cell_type": "code",
      "execution_count": 61,
      "metadata": {
        "id": "2HYwhsE2RgcS"
      },
      "outputs": [],
      "source": [
        " import numpy as np\n",
        " import matplotlib.pyplot as plt\n",
        " import cv2\n",
        " import tensorflow as tf\n",
        " import os"
      ]
    },
    {
      "cell_type": "code",
      "source": [
        "mnist = tf.keras.datasets.mnist\n",
        "(x_train, y_train), (x_test, y_test) = mnist.load_data()\n",
        "x_train = tf.keras.utils.normalize(x_train, axis = 1)\n",
        "x_test = tf.keras.utils.normalize(x_test, axis = 1)\n"
      ],
      "metadata": {
        "id": "VB3ez8KZSpet"
      },
      "execution_count": 62,
      "outputs": []
    },
    {
      "cell_type": "code",
      "source": [
        "model = tf.keras.models.Sequential()\n",
        "model.add(tf.keras.layers.Flatten(input_shape = (28, 28)))\n",
        "model.add(tf.keras.layers.Dense(128, activation='relu'))\n",
        "model.add(tf.keras.layers.Dense(128, activation='relu'))\n",
        "model.add(tf.keras.layers.Dense(10, activation='softmax'))"
      ],
      "metadata": {
        "id": "bu9FRmEHT7Z1"
      },
      "execution_count": 63,
      "outputs": []
    },
    {
      "cell_type": "markdown",
      "source": [
        ""
      ],
      "metadata": {
        "id": "rubRVpsiz0C0"
      }
    },
    {
      "cell_type": "code",
      "source": [
        "model.compile(optimizer = 'adam', loss = 'sparse_categorical_crossentropy', metrics = ['accuracy'])\n",
        "model.fit(x_train, y_train, epochs = 8)\n",
        "model.save('Digit-recognition.model')"
      ],
      "metadata": {
        "colab": {
          "base_uri": "https://localhost:8080/"
        },
        "id": "gjaEpCPSVjM5",
        "outputId": "6df5aac5-78cf-41cc-88b1-1fa1ca5b2216"
      },
      "execution_count": 69,
      "outputs": [
        {
          "output_type": "stream",
          "name": "stdout",
          "text": [
            "Epoch 1/8\n",
            "1875/1875 [==============================] - 5s 2ms/step - loss: 0.0049 - accuracy: 0.9989\n",
            "Epoch 2/8\n",
            "1875/1875 [==============================] - 5s 2ms/step - loss: 0.0065 - accuracy: 0.9984\n",
            "Epoch 3/8\n",
            "1875/1875 [==============================] - 5s 2ms/step - loss: 0.0051 - accuracy: 0.9987\n",
            "Epoch 4/8\n",
            "1875/1875 [==============================] - 5s 2ms/step - loss: 0.0043 - accuracy: 0.9988\n",
            "Epoch 5/8\n",
            "1875/1875 [==============================] - 5s 2ms/step - loss: 0.0038 - accuracy: 0.9990\n",
            "Epoch 6/8\n",
            "1875/1875 [==============================] - 5s 2ms/step - loss: 0.0050 - accuracy: 0.9987\n",
            "Epoch 7/8\n",
            "1875/1875 [==============================] - 5s 2ms/step - loss: 0.0050 - accuracy: 0.9989\n",
            "Epoch 8/8\n",
            "1875/1875 [==============================] - 5s 2ms/step - loss: 0.0051 - accuracy: 0.9989\n",
            "INFO:tensorflow:Assets written to: Digit-recognition.model/assets\n"
          ]
        }
      ]
    },
    {
      "cell_type": "code",
      "source": [
        "model = tf.keras.models.load_model('Digit-recognition.model')\n",
        "loss, accuracy = model.evaluate(x_test, y_test)\n",
        "\n",
        "print(loss)\n",
        "print(accuracy)"
      ],
      "metadata": {
        "colab": {
          "base_uri": "https://localhost:8080/"
        },
        "id": "TJdIIVcGWyL2",
        "outputId": "c2d3e4e9-f431-4eec-f675-fe29475ef180"
      },
      "execution_count": 70,
      "outputs": [
        {
          "output_type": "stream",
          "name": "stdout",
          "text": [
            "313/313 [==============================] - 1s 1ms/step - loss: 0.2003 - accuracy: 0.9793\n",
            "0.2002866119146347\n",
            "0.9793000221252441\n"
          ]
        }
      ]
    },
    {
      "cell_type": "code",
      "source": [
        "image_number = 0\n",
        "while os.path.isfile(f\"digits/dig{image_number}.png\"):\n",
        "  try:    \n",
        "    img = cv2.imread(f\"digits/dig{image_number}.png\")[:, :, 0]\n",
        "    img=np.invert(np.array([img]))\n",
        "    prediction = model.predict(img)\n",
        "    print(f\"This digit is probably a {np.argmax(prediction)}\")\n",
        "    plt.imshow(img[0], cmap = plt.cm.binary)\n",
        "    plt.show()\n",
        "  except:\n",
        "    print(\"Error!\")\n",
        "  finally:\n",
        "    image_number += 1"
      ],
      "metadata": {
        "colab": {
          "base_uri": "https://localhost:8080/",
          "height": 1000
        },
        "id": "1OUYLMSTlAn1",
        "outputId": "a5f99e7c-bdf8-4e77-e196-956ed4080369"
      },
      "execution_count": 71,
      "outputs": [
        {
          "output_type": "stream",
          "name": "stdout",
          "text": [
            "This digit is probably a 0\n"
          ]
        },
        {
          "output_type": "display_data",
          "data": {
            "image/png": "[encoded data removed]",
            "text/plain": [
              "<Figure size 432x288 with 1 Axes>"
            ]
          },
          "metadata": {
            "needs_background": "light"
          }
        },
        {
          "output_type": "stream",
          "name": "stdout",
          "text": [
            "This digit is probably a 2\n"
          ]
        },
        {
          "output_type": "display_data",
          "data": {
            "image/png": "[encoded data removed]",
            "text/plain": [
              "<Figure size 432x288 with 1 Axes>"
            ]
          },
          "metadata": {
            "needs_background": "light"
          }
        },
        {
          "output_type": "stream",
          "name": "stdout",
          "text": [
            "This digit is probably a 2\n"
          ]
        },
        {
          "output_type": "display_data",
          "data": {
            "image/png": "[encoded data removed]",
            "text/plain": [
              "<Figure size 432x288 with 1 Axes>"
            ]
          },
          "metadata": {
            "needs_background": "light"
          }
        },
        {
          "output_type": "stream",
          "name": "stdout",
          "text": [
            "This digit is probably a 3\n"
          ]
        },
        {
          "output_type": "display_data",
          "data": {
            "image/png": "[encoded data removed]",
            "text/plain": [
              "<Figure size 432x288 with 1 Axes>"
            ]
          },
          "metadata": {
            "needs_background": "light"
          }
        },
        {
          "output_type": "stream",
          "name": "stdout",
          "text": [
            "This digit is probably a 8\n"
          ]
        },
        {
          "output_type": "display_data",
          "data": {
            "image/png": "[encoded data removed]",
            "text/plain": [
              "<Figure size 432x288 with 1 Axes>"
            ]
          },
          "metadata": {
            "needs_background": "light"
          }
        },
        {
          "output_type": "stream",
          "name": "stdout",
          "text": [
            "This digit is probably a 5\n"
          ]
        },
        {
          "output_type": "display_data",
          "data": {
            "image/png": "[encoded data removed]",
            "text/plain": [
              "<Figure size 432x288 with 1 Axes>"
            ]
          },
          "metadata": {
            "needs_background": "light"
          }
        },
        {
          "output_type": "stream",
          "name": "stdout",
          "text": [
            "This digit is probably a 8\n"
          ]
        },
        {
          "output_type": "display_data",
          "data": {
            "image/png": "[encoded data removed]",
            "text/plain": [
              "<Figure size 432x288 with 1 Axes>"
            ]
          },
          "metadata": {
            "needs_background": "light"
          }
        },
        {
          "output_type": "stream",
          "name": "stdout",
          "text": [
            "This digit is probably a 7\n"
          ]
        },
        {
          "output_type": "display_data",
          "data": {
            "image/png": "[encoded data removed]",
            "text/plain": [
              "<Figure size 432x288 with 1 Axes>"
            ]
          },
          "metadata": {
            "needs_background": "light"
          }
        },
        {
          "output_type": "stream",
          "name": "stdout",
          "text": [
            "This digit is probably a 8\n"
          ]
        },
        {
          "output_type": "display_data",
          "data": {
            "image/png": "[encoded data removed]",
            "text/plain": [
              "<Figure size 432x288 with 1 Axes>"
            ]
          },
          "metadata": {
            "needs_background": "light"
          }
        },
        {
          "output_type": "stream",
          "name": "stdout",
          "text": [
            "This digit is probably a 3\n"
          ]
        },
        {
          "output_type": "display_data",
          "data": {
            "image/png": "[encoded data removed]",
            "text/plain": [
              "<Figure size 432x288 with 1 Axes>"
            ]
          },
          "metadata": {
            "needs_background": "light"
          }
        }
      ]
    }
  ]
}